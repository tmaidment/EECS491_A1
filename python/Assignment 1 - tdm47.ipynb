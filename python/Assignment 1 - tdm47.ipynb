{
 "cells": [
  {
   "cell_type": "markdown",
   "metadata": {},
   "source": [
    "# Assignment 1\n",
    "\n",
    "### EECS 491\n",
    "### Tristan Maidment - TDM47\n",
    "\n",
    "#### Goal\n",
    "\n",
    "My goal for this assignment is to use Bayes' Rule to be able to classify the loss condition for packets retransmitted by the TCP protocol.\n",
    "\n",
    "Traditionally, TCP has two conditions for re-transmitting packets.  TCP protocol classifies the lack of an acknowledgement after a certain time as a \"timeout\".  Upon receiving three acknowledgements for the same packet in a row, the packet is \"fast-retransmited\", or instantly sent.  Both of these events are related to a continuous variable, RTT that defines the time taken for a packet to be sent to a receiver, and an acknowledgement made.  Since both methods require a form of induciton for packet retransmission, (when it is most probable that a packet should be re-sent,) they have natural variance.  However, I should be able to predict the retransmission method for a given packet is lost, given RTT data of timeout and fast-retransmit events.\n",
    "\n",
    "#### Method\n",
    "\n",
    "To classify re-transmitted packets I will use the following adaptation of Bayes' Rule:\n",
    "\n",
    "`P(timeout|RTT) = P(RTT|timeout)P(timeout)`\n",
    "\n",
    "The fast-retransmit and timeout events are mutually exclusive - only one event may occur per packet.  Due to this, I am able to conclude: \n",
    "\n",
    "`P(fast-retransmit|RTT) = 1 - P(timeout|RTT)`\n",
    "\n",
    "Alternatively, I can calculate `P(fast-retransmit|RTT)` via it's own distribution, and normalize the two.\n",
    "\n",
    "I will use the RTT data of timeout and fast-retransmit events to create two likelihood distributions for both variables.\n",
    "\n",
    "I will be looking to determine the possible \"hidden variable\" linking the fast-retransmit and timeout events to a packet retransmission event.\n",
    "\n"
   ]
  },
  {
   "cell_type": "markdown",
   "metadata": {},
   "source": [
    "#### Code\n",
    "\n",
    "First, I import the dependencies used for this assignment.\n",
    "\n",
    "Please note that I have not used Python before, and a fair amount of this code is modifications of example code.\n"
   ]
  },
  {
   "cell_type": "code",
   "execution_count": 2,
   "metadata": {},
   "outputs": [],
   "source": [
    "import csv\n",
    "import matplotlib.pyplot as plt\n",
    "import numpy as np\n",
    "import scipy.stats as stats\n",
    "import math\n",
    "%matplotlib inline"
   ]
  },
  {
   "cell_type": "markdown",
   "metadata": {},
   "source": [
    "To acquire data for this assignment, I captured the network traffic from my laptop using the program WireShark.\n",
    "\n",
    "Due to limitations in my ability to decipher *.pcap* files and find packet RTT, I used a trick learned in EECS 325 Computer Networks I - count the number of hops the packet took from source to destination.  Since the source packet defines the TTL, I only observed packets with TTLs lower than the default value of 64, in order to prevent problems with packets that have higher TTLs set.\n",
    "\n",
    "I define three lists to hold the TTLs for each respective event."
   ]
  },
  {
   "cell_type": "code",
   "execution_count": 3,
   "metadata": {},
   "outputs": [],
   "source": [
    "hops = []\n",
    "hops_retrans = []\n",
    "hops_timeout = []"
   ]
  },
  {
   "cell_type": "markdown",
   "metadata": {},
   "source": [
    "To get TTL data, I had to create a custom dataset using the Wireshark output.  It required me to format the TTLs and packet information into a CSV file, which I parsed for information.\n",
    "\n",
    "I classified each packet using the packet information that WireShark provides.  I did this by reading through the output to find how the retransmission events were classified.\n",
    "\n",
    "*Note that it took me multiple attempts (with 100000+ packets each time) to acquire data with enough fast-retransmisison events.*"
   ]
  },
  {
   "cell_type": "code",
   "execution_count": 4,
   "metadata": {},
   "outputs": [],
   "source": [
    "with open('TTL3.csv', newline='') as csvfile:\n",
    "    ttls = csv.reader(csvfile, delimiter=',', quotechar='\"')\n",
    "    for row in ttls:\n",
    "        if row[1]:\n",
    "            ttl = 64 - int(row[1])\n",
    "            #I removed all TTL that are below 0.  \n",
    "            #These TTL are either set at a value higher than 64 by the sender,\n",
    "            #or packets being sent to local devices on my home network. (TTL = 0)\n",
    "            if ttl > 0:\n",
    "                if \"[TCP Retransmission]\" in row[2]:\n",
    "                    hops_timeout.append(ttl)\n",
    "                elif \"[TCP Fast Retransmission]\" in row[2]:\n",
    "                    hops_retrans.append(ttl)\n",
    "                else:\n",
    "                    hops.append(ttl)"
   ]
  },
  {
   "cell_type": "markdown",
   "metadata": {},
   "source": [
    "To see the percentage of packets that were retransmitted, I counted the number of packets classified for each event, and printed out the statistics for each event.  Unfortunately the amount of retransmitted packets is very small, but it will have to do."
   ]
  },
  {
   "cell_type": "code",
   "execution_count": 5,
   "metadata": {},
   "outputs": [
    {
     "name": "stdout",
     "output_type": "stream",
     "text": [
      "Packets successful 104546\n",
      "Packets timed out 73\n",
      "Packets fast-retransmitted 43\n",
      "Percent timed out 0.0006974833272821081\n",
      "Percent fast_retransmitted 0.0004108463434675431\n",
      "Packets total 104662\n"
     ]
    }
   ],
   "source": [
    "pkt_total = len(hops) + len(hops_timeout) + len(hops_retrans)\n",
    "pkt_succ = len(hops)\n",
    "pkt_time = len(hops_timeout)\n",
    "pkt_fast = len(hops_retrans)\n",
    "print(\"Packets successful\", pkt_succ)\n",
    "print(\"Packets timed out\", pkt_time)\n",
    "print(\"Packets fast-retransmitted\", pkt_fast)\n",
    "print(\"Percent timed out\", pkt_time/pkt_total)\n",
    "print(\"Percent fast_retransmitted\", pkt_fast/pkt_total)\n",
    "print(\"Packets total\", pkt_total)"
   ]
  },
  {
   "cell_type": "markdown",
   "metadata": {},
   "source": [
    "I created a plot for the retransmission events and packets that were properly acknowledged.\n",
    "\n",
    "In addition, I calculated the mean, standard deviation, and variance of both events, as I am assuming a normal distribution."
   ]
  },
  {
   "cell_type": "code",
   "execution_count": 6,
   "metadata": {},
   "outputs": [
    {
     "name": "stdout",
     "output_type": "stream",
     "text": [
      "Successfully Transmitted\n",
      "Mean 10.172871271975973\n",
      "STD 3.31149695250862\n",
      "VAR 10.966012066473878\n"
     ]
    },
    {
     "data": {
      "image/png": "[encoded data removed]",
      "text/plain": [
       "<matplotlib.figure.Figure at 0x10b1580f0>"
      ]
     },
     "metadata": {},
     "output_type": "display_data"
    }
   ],
   "source": [
    "mu, std = stats.norm.fit(hops)\n",
    "plt.hist(hops, normed=True)\n",
    "xmin, xmax = plt.xlim()\n",
    "x = np.linspace(xmin, xmax, 100)\n",
    "p = stats.norm.pdf(x, mu, std)\n",
    "plt.plot(x, p)\n",
    "\n",
    "print(\"Successfully Transmitted\")\n",
    "print(\"Mean\", np.mean(hops))\n",
    "print(\"STD\", np.std(hops))\n",
    "print(\"VAR\", np.std(hops) * np.std(hops))"
   ]
  },
  {
   "cell_type": "code",
   "execution_count": 7,
   "metadata": {},
   "outputs": [
    {
     "name": "stdout",
     "output_type": "stream",
     "text": [
      "Timeout\n",
      "Mean 11.232876712328768\n",
      "STD 4.5616644040837855\n",
      "VAR 20.808782135485078\n"
     ]
    },
    {
     "data": {
      "image/png": "[encoded data removed]",
      "text/plain": [
       "<matplotlib.figure.Figure at 0x10b13c940>"
      ]
     },
     "metadata": {},
     "output_type": "display_data"
    }
   ],
   "source": [
    "mu, std = stats.norm.fit(hops_timeout)\n",
    "plt.hist(hops_timeout, normed=True)\n",
    "p = stats.norm.pdf(x, mu, std)\n",
    "plt.plot(x, p)\n",
    "\n",
    "print(\"Timeout\")\n",
    "print(\"Mean\", np.mean(hops_timeout))\n",
    "print(\"STD\", np.std(hops_timeout))\n",
    "print(\"VAR\", np.std(hops_timeout) * np.std(hops_timeout))"
   ]
  },
  {
   "cell_type": "code",
   "execution_count": 8,
   "metadata": {},
   "outputs": [
    {
     "name": "stdout",
     "output_type": "stream",
     "text": [
      "Fast-Retransmit\n",
      "Mean 14.511627906976743\n",
      "STD 1.70324031847447\n",
      "VAR 2.9010275824770138\n"
     ]
    },
    {
     "data": {
      "image/png": "[encoded data removed]",
      "text/plain": [
       "<matplotlib.figure.Figure at 0x106cb3208>"
      ]
     },
     "metadata": {},
     "output_type": "display_data"
    }
   ],
   "source": [
    "mu, std = stats.norm.fit(hops_retrans)\n",
    "plt.hist(hops_retrans, normed=True)\n",
    "p = stats.norm.pdf(x, mu, std)\n",
    "plt.plot(x, p)\n",
    "\n",
    "print(\"Fast-Retransmit\")\n",
    "print(\"Mean\", np.mean(hops_retrans))\n",
    "print(\"STD\", np.std(hops_retrans))\n",
    "print(\"VAR\", np.std(hops_retrans) * np.std(hops_retrans))"
   ]
  },
  {
   "cell_type": "markdown",
   "metadata": {},
   "source": [
    "It's very interesting to see the concentration of fast retransmits at 15 hops.  Unfortunately the timeout event distribution is similar to that of the successful packets.\n",
    "\n",
    "I then define the prior, P(loss).  This is a constant as it is the overall packet loss of the model."
   ]
  },
  {
   "cell_type": "code",
   "execution_count": 9,
   "metadata": {},
   "outputs": [],
   "source": [
    "packet_loss = (pkt_time+pkt_fast)/pkt_total"
   ]
  },
  {
   "cell_type": "markdown",
   "metadata": {},
   "source": [
    "To determine the probability of a specific TTL given a certain retransmission event, I use the PDF from the likelihood distributions."
   ]
  },
  {
   "cell_type": "code",
   "execution_count": 10,
   "metadata": {},
   "outputs": [],
   "source": [
    "def likelihood_timeout(TTL):\n",
    "    mu, std = stats.norm.fit(hops_timeout)\n",
    "    return stats.norm(mu, std).pdf(TTL)\n",
    "\n",
    "def likelihood_retransmit(TTL):\n",
    "    mu, std = stats.norm.fit(hops_retrans)\n",
    "    return stats.norm(mu, std).pdf(TTL)"
   ]
  },
  {
   "cell_type": "markdown",
   "metadata": {},
   "source": [
    "To define the posterior, we take the likelihood and multiply it by the prior."
   ]
  },
  {
   "cell_type": "code",
   "execution_count": 11,
   "metadata": {},
   "outputs": [],
   "source": [
    "def posterior_timeout(TTL):\n",
    "    return likelihood_timeout(TTL) * packet_loss\n",
    "\n",
    "def posterior_retransmit(TTL):\n",
    "    return likelihood_retransmit(TTL) * packet_loss"
   ]
  },
  {
   "cell_type": "markdown",
   "metadata": {},
   "source": [
    "To determine the classification boundaries between fast-retransmit and timeout, we must normalize the two posterior distributions."
   ]
  },
  {
   "cell_type": "code",
   "execution_count": 12,
   "metadata": {},
   "outputs": [],
   "source": [
    "def normalize(val):\n",
    "    norm_const = posterior_timeout(val) + posterior_retransmit(val)\n",
    "    return (posterior_timeout(val) / norm_const), (posterior_retransmit(val) / norm_const)"
   ]
  },
  {
   "cell_type": "markdown",
   "metadata": {},
   "source": [
    "I then graphed the decision boundary for both events, superimposed on each other.  We can see that around 15 TTLs, Bayes' Inference picks the fast-retransmission event over the timeout event.  The likelihood distribution for the fast-retransmit event supports this."
   ]
  },
  {
   "cell_type": "code",
   "execution_count": 13,
   "metadata": {},
   "outputs": [
    {
     "name": "stdout",
     "output_type": "stream",
     "text": [
      "Bayesian Inference Decision w/ Respect to TTL\n"
     ]
    },
    {
     "data": {
      "image/png": "[encoded data removed]",
      "text/plain": [
       "<matplotlib.figure.Figure at 0x10b65a160>"
      ]
     },
     "metadata": {},
     "output_type": "display_data"
    }
   ],
   "source": [
    "xaxis = []\n",
    "timeout_prob = []\n",
    "retransmit_prob = []\n",
    "\n",
    "for z in range(0, math.ceil(xmax)):\n",
    "    xaxis.append(z)\n",
    "    timeout_prob.append(normalize(z)[0])\n",
    "    retransmit_prob.append(normalize(z)[1])\n",
    "plt.plot(xaxis, timeout_prob)\n",
    "plt.plot(xaxis, retransmit_prob)\n",
    "\n",
    "print(\"Bayesian Inference Decision w/ Respect to TTL\")"
   ]
  },
  {
   "cell_type": "markdown",
   "metadata": {},
   "source": [
    "### Conclusion\n",
    "\n",
    "Overall, I believe that I reached my goal in terms of being able to classify what sort of retransmission mechanism a lost packet will take.  Due to limitations in the amount of data I was able to require, I believe that this representation is not accurate of actual TCP throughput, but I believe that it accurately classify's the model I acquired."
   ]
  },
  {
   "cell_type": "code",
   "execution_count": null,
   "metadata": {},
   "outputs": [],
   "source": []
  }
 ],
 "metadata": {
  "kernelspec": {
   "display_name": "Python 3",
   "language": "python",
   "name": "python3"
  },
  "language_info": {
   "codemirror_mode": {
    "name": "ipython",
    "version": 3
   },
   "file_extension": ".py",
   "mimetype": "text/x-python",
   "name": "python",
   "nbconvert_exporter": "python",
   "pygments_lexer": "ipython3",
   "version": "3.6.5"
  }
 },
 "nbformat": 4,
 "nbformat_minor": 2
}
